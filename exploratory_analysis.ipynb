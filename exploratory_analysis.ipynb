{
 "cells": [
  {
   "cell_type": "code",
   "execution_count": 4,
   "metadata": {},
   "outputs": [],
   "source": [
    "import pandas as pd\n",
    "\n",
    "df = pd.read_csv('movies.csv', encoding='ISO-8859-1')"
   ]
  },
  {
   "cell_type": "markdown",
   "metadata": {},
   "source": [
    "### Pregunta 9\n",
    "¿Es posible que la cantidad de hombres y mujeres en el reparto influya\n",
    "en la popularidad y los ingresos de las películas?"
   ]
  },
  {
   "cell_type": "code",
   "execution_count": 6,
   "metadata": {},
   "outputs": [
    {
     "name": "stdout",
     "output_type": "stream",
     "text": [
      "                 castWomenAmount  castMenAmount  popularity   revenue\n",
      "castWomenAmount         1.000000      -0.090474   -0.001778 -0.037397\n",
      "castMenAmount          -0.090474       1.000000    0.002779 -0.060143\n",
      "popularity             -0.001778       0.002779    1.000000  0.162546\n",
      "revenue                -0.037397      -0.060143    0.162546  1.000000\n"
     ]
    }
   ],
   "source": [
    "df['castWomenAmount'] = pd.to_numeric(df['castWomenAmount'], errors='coerce')\n",
    "df['castMenAmount'] = pd.to_numeric(df['castMenAmount'], errors='coerce')\n",
    "\n",
    "# Calculate the correlation between castWomenAmount, castMenAmount, popularity, and revenue\n",
    "correlation_matrix = df[['castWomenAmount', 'castMenAmount', 'popularity', 'revenue']].corr()\n",
    "\n",
    "print(correlation_matrix)"
   ]
  },
  {
   "cell_type": "markdown",
   "metadata": {},
   "source": [
    "> "
   ]
  }
 ],
 "metadata": {
  "kernelspec": {
   "display_name": "venv",
   "language": "python",
   "name": "python3"
  },
  "language_info": {
   "codemirror_mode": {
    "name": "ipython",
    "version": 3
   },
   "file_extension": ".py",
   "mimetype": "text/x-python",
   "name": "python",
   "nbconvert_exporter": "python",
   "pygments_lexer": "ipython3",
   "version": "3.13.0"
  }
 },
 "nbformat": 4,
 "nbformat_minor": 2
}
