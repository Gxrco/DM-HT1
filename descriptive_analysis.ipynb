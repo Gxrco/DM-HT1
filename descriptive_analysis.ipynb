{
 "cells": [
  {
   "cell_type": "markdown",
   "metadata": {},
   "source": [
    "# Análisis descriptivo - CineVision Studios\n",
    "Aquí se contiene la resolución del ejercicio #4 y #5 con las consultas correspondientes."
   ]
  },
  {
   "cell_type": "code",
   "execution_count": 50,
   "metadata": {},
   "outputs": [],
   "source": [
    "import pandas as pd\n",
    "import numpy as np\n",
    "import matplotlib.pyplot as plt\n",
    "import seaborn as sns\n",
    "from scipy import stats\n",
    "\n",
    "sns.set_theme(style=\"whitegrid\")\n",
    "\n",
    "file_path = \"./movies.csv\"\n",
    "df = pd.read_csv(file_path, encoding=\"ISO-8859-1\")"
   ]
  }
 ],
 "metadata": {
  "language_info": {
   "name": "python"
  }
 },
 "nbformat": 4,
 "nbformat_minor": 2
}
